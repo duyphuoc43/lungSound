{
 "cells": [
  {
   "cell_type": "code",
   "execution_count": 7,
   "metadata": {},
   "outputs": [],
   "source": [
    "import os\n",
    "import pandas as pd\n",
    "import matplotlib.pyplot as plt\n",
    "import numpy as np\n",
    "import librosa\n",
    "import cv2"
   ]
  },
  {
   "cell_type": "code",
   "execution_count": 60,
   "metadata": {},
   "outputs": [],
   "source": [
    "\n",
    "def get_data(label,audio,time_limit,sr):\n",
    "\n",
    "    segment_length = time_limit * sr\n",
    "    num_segments = (len(audio) // segment_length)\n",
    "    x = []\n",
    "    y = []\n",
    "    for i in range(num_segments):\n",
    "        start_sample = i * segment_length\n",
    "        end_sample = (i + 1) * segment_length\n",
    "        \n",
    "        segment = audio[start_sample:end_sample]\n",
    "\n",
    "        create_data(segment,n_fft,n_mels,hop_length)\n",
    "        \n",
    "        \n",
    "        \n",
    "        x.append(create_data(segment,n_fft,n_mels,hop_length))\n",
    "        y.append(label)\n",
    "        # print(label)\n",
    "    # print(len(x))\n",
    "    return x,y\n",
    "def create_data (audio,n_fft,n_mels,hop_length):\n",
    "    mel_spectrogram = librosa.feature.melspectrogram(y=audio,n_fft= n_fft ,n_mels=n_mels,hop_length=hop_length)\n",
    "    mel_spectrogram_db = librosa.power_to_db(mel_spectrogram ,ref=np.max)\n",
    "    mel_spectrogram_db = mel_spectrogram_db + np.abs(np.min(mel_spectrogram_db))\n",
    "    mel_spectrogram_db= cv2.resize(mel_spectrogram_db,output_size[:2])\n",
    "    mel_spectrogram_db= np.reshape(mel_spectrogram_db,output_size)\n",
    "    return mel_spectrogram_db"
   ]
  },
  {
   "cell_type": "code",
   "execution_count": 61,
   "metadata": {},
   "outputs": [],
   "source": [
    "duration = 1\n",
    "time_limit = duration\n",
    "sr = 16000\n",
    "n_fft = 512\n",
    "n_mels= 128\n",
    "hop_length = 256\n",
    "output_size = (64,64,1)"
   ]
  },
  {
   "cell_type": "code",
   "execution_count": 62,
   "metadata": {},
   "outputs": [
    {
     "name": "stdout",
     "output_type": "stream",
     "text": [
      "(6008, 64, 64, 1)\n",
      "(6008,)\n"
     ]
    }
   ],
   "source": [
    "x = []\n",
    "y  = []\n",
    "x_test = []\n",
    "y_test =[]\n",
    "dem = 0\n",
    "name_folders = \"data/test\"\n",
    "label =''\n",
    "for file in os.listdir(name_folders):\n",
    "    if file.endswith('.wav'):\n",
    "        name_files = os.path.join(name_folders,file)\n",
    "        with open(name_files[:-3]+'txt', \"r\") as file:\n",
    "            lines = [line.strip().split('\\t') for line in file]\n",
    "            for arrays in lines:\n",
    "                # print(np.array(arrays))\n",
    "                time_start = float(arrays[0])\n",
    "                time_end = float(arrays[1])-float(time_start)\n",
    "                # print(time_end)\n",
    "                # print(arrays)\n",
    "                if (arrays[2] == '0'  and arrays[3]=='0'):\n",
    "                    label = 'normal'\n",
    "                if (arrays[2] == '0'  and arrays[3]== '1'):\n",
    "                    label = 'wheeze'\n",
    "                if (arrays[2] == '1'  and arrays[3]== '0'):\n",
    "                    label = 'crackles'    \n",
    "                if (arrays[2] == '1'  and arrays[3]== '1'):\n",
    "                    label = 'both'\n",
    "                # print(label)\n",
    "                audio, sr = librosa.load(name_files, sr=sr,offset = time_start,duration = time_end)\n",
    "\n",
    "                x,y = get_data(label,audio,time_limit = time_limit,sr = sr)\n",
    "                x_test.extend(x)\n",
    "                y_test.extend(y)\n",
    "print(np.array(x_test).shape)\n",
    "print(np.array(y_test).shape)"
   ]
  },
  {
   "cell_type": "code",
   "execution_count": 63,
   "metadata": {},
   "outputs": [
    {
     "name": "stdout",
     "output_type": "stream",
     "text": [
      "(9266, 64, 64, 1)\n",
      "(9266,)\n"
     ]
    }
   ],
   "source": [
    "x = []\n",
    "y  = []\n",
    "x_train = []\n",
    "y_train =[]\n",
    "dem = 0\n",
    "name_folders = \"data/train\"\n",
    "label =''\n",
    "for file in os.listdir(name_folders):\n",
    "    if file.endswith('.wav'):\n",
    "        name_files = os.path.join(name_folders,file)\n",
    "        with open(name_files[:-3]+'txt', \"r\") as file:\n",
    "            lines = [line.strip().split('\\t') for line in file]\n",
    "            for arrays in lines:\n",
    "                # print(np.array(arrays))\n",
    "                time_start = float(arrays[0])\n",
    "                time_end = float(arrays[1])-float(time_start)\n",
    "                # print(time_end)\n",
    "                # print(arrays)\n",
    "                if (arrays[2] == '0'  and arrays[3]=='0'):\n",
    "                    label = 'normal'\n",
    "                if (arrays[2] == '0'  and arrays[3]== '1'):\n",
    "                    label = 'wheeze'\n",
    "                if (arrays[2] == '1'  and arrays[3]== '0'):\n",
    "                    label = 'crackles'    \n",
    "                if (arrays[2] == '1'  and arrays[3]== '1'):\n",
    "                    label = 'both'\n",
    "                # print(label)\n",
    "                audio, sr = librosa.load(name_files, sr=sr,offset = time_start,duration = time_end)\n",
    "\n",
    "                x,y = get_data(label,audio,time_limit = time_limit,sr = sr)\n",
    "                x_train.extend(x)\n",
    "                y_train.extend(y)\n",
    "print(np.array(x_train).shape)\n",
    "print(np.array(y_train).shape)"
   ]
  },
  {
   "cell_type": "code",
   "execution_count": null,
   "metadata": {},
   "outputs": [],
   "source": []
  }
 ],
 "metadata": {
  "kernelspec": {
   "display_name": "venv",
   "language": "python",
   "name": "python3"
  },
  "language_info": {
   "codemirror_mode": {
    "name": "ipython",
    "version": 3
   },
   "file_extension": ".py",
   "mimetype": "text/x-python",
   "name": "python",
   "nbconvert_exporter": "python",
   "pygments_lexer": "ipython3",
   "version": "3.10.10"
  }
 },
 "nbformat": 4,
 "nbformat_minor": 2
}
